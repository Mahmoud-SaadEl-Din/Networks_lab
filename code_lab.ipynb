{
 "cells": [
  {
   "cell_type": "code",
   "execution_count": 139,
   "metadata": {},
   "outputs": [
    {
     "name": "stdout",
     "output_type": "stream",
     "text": [
      "00110110,01110111,01101111,01110010,01101011,00110111,\n",
      "00110110,01110000,01101100,01100001,01111001,00110010,\n",
      "00110101,01100101,01100001,01110100,01000101,\n"
     ]
    }
   ],
   "source": [
    "File_object = open(\"input.txt\",\"r\")\n",
    "outputfile = open(\"output.txt\",\"w+\")\n",
    "msgs = [\"work\",\"play\",\"eat\",\"mahmoud\"]\n",
    "msgs = File_object.readlines()\n",
    "\n",
    "for msg1 in msgs:\n",
    "    msg =\"\"\n",
    "    for i in range(0,len(msg1)-1):\n",
    "        msg += msg1[i]\n",
    "    final_encoding = \"\"\n",
    "    char_count = str(len(msg) +2)\n",
    "    parity  = even_parity(char_count+msg)\n",
    "    final_encoding+=bin_representation(char_count)\n",
    "    final_encoding+= \",\"\n",
    "    for char in msg:\n",
    "        final_encoding += bin_representation(char) \n",
    "        final_encoding+= \",\"\n",
    "    final_encoding += parity\n",
    "    final_encoding+= \",\"\n",
    "    outputfile.write(final_encoding+\"\\n\")\n",
    "    \n",
    "    print(final_encoding)\n",
    "\n",
    "    \n",
    "\n",
    "        \n",
    "    "
   ]
  },
  {
   "cell_type": "code",
   "execution_count": 87,
   "metadata": {},
   "outputs": [
    {
     "name": "stdout",
     "output_type": "stream",
     "text": [
      "2\n"
     ]
    }
   ],
   "source": [
    "word= \"gg\"\n",
    "print(len(word))"
   ]
  },
  {
   "cell_type": "code",
   "execution_count": 84,
   "metadata": {},
   "outputs": [
    {
     "name": "stdout",
     "output_type": "stream",
     "text": [
      "00110111\n",
      "01100111\n"
     ]
    }
   ],
   "source": [
    "def even_parity(msg):\n",
    "    even = bin_representation(\"\\0\")\n",
    "    for char in msg:\n",
    "        binary = bin_representation(char)\n",
    "        result = \"\"\n",
    "        for index, bin_val in enumerate(binary):\n",
    "            result += str(int(bin_val) ^ int(even[index])) \n",
    "        even = result\n",
    "    return(even)\n",
    "        \n",
    "print(even_parity(\"6work\"))\n",
    "print(bin_representation(\"g\"))"
   ]
  },
  {
   "cell_type": "code",
   "execution_count": 25,
   "metadata": {},
   "outputs": [
    {
     "name": "stdout",
     "output_type": "stream",
     "text": [
      "01100111\n",
      "<class 'str'>\n"
     ]
    }
   ],
   "source": [
    "def bin_representation(char):\n",
    "    even_parity =  bin(ord(char))\n",
    "    even_parity = even_parity[2:]\n",
    "    even_parity = even_parity.zfill(8)\n",
    "    return even_parity\n",
    "\n",
    "print(bin_representation(\"g\"))\n",
    "print(type(bin_representation(\"\\0\")))"
   ]
  },
  {
   "cell_type": "code",
   "execution_count": 76,
   "metadata": {},
   "outputs": [
    {
     "name": "stdout",
     "output_type": "stream",
     "text": [
      "0\n"
     ]
    }
   ],
   "source": [
    "print(str(int('1') ^ int('1')))"
   ]
  },
  {
   "cell_type": "code",
   "execution_count": 119,
   "metadata": {},
   "outputs": [],
   "source": [
    "def reciever(bin_msg):\n",
    "    char_count = bin_msg[0]\n",
    "    msg = []\n",
    "    for i in range(1,len(bin_msg)-1):\n",
    "        msg.append(bin_msg[i])\n",
    "    even_parity = bin_msg[len(bin_msg)-1]\n",
    "    check = []\n",
    "    check.append(char_count)\n",
    "    check.extend(msg)\n",
    "    check_parity = xor_bits(check)\n",
    "    if even_parity != check_parity:\n",
    "        print(\"error\")\n",
    "    else:\n",
    "        for char in msg:\n",
    "            letter = chr(int(char,2))\n",
    "            print(letter)\n",
    "            "
   ]
  },
  {
   "cell_type": "code",
   "execution_count": 118,
   "metadata": {},
   "outputs": [
    {
     "name": "stdout",
     "output_type": "stream",
     "text": [
      "00110111\n"
     ]
    }
   ],
   "source": [
    "def xor_bits(list_of_binary):\n",
    "    even = bin_representation(\"\\0\")\n",
    "    for char in list_of_binary:\n",
    "        result = \"\"\n",
    "        for index, bin_val in enumerate(char):\n",
    "            result += str(int(bin_val) ^ int(even[index])) \n",
    "        even = result\n",
    "    return(even)\n",
    "\n",
    "data = [\"00110110\",\"01110111\",\"01101111\",\"01110010\",\"01101011\"]\n",
    "print(xor_bits(data))"
   ]
  },
  {
   "cell_type": "code",
   "execution_count": null,
   "metadata": {},
   "outputs": [],
   "source": []
  },
  {
   "cell_type": "code",
   "execution_count": 128,
   "metadata": {},
   "outputs": [
    {
     "name": "stdout",
     "output_type": "stream",
     "text": [
      "m\n",
      "a\n",
      "h\n",
      "m\n",
      "o\n",
      "u\n",
      "d\n"
     ]
    }
   ],
   "source": [
    "data = [\"00110110\",\"01110111\",\"01101111\",\"01110010\",\"01101011\",\"00110111\"]\n",
    "data2 = [\"00110110\",\"01110000\",\"01101100\",\"01100001\",\"01111001\",\"00110010\"]\n",
    "data3 = [\"00110101\",\"01100101\",\"01100001\",\"01110100\",\"01000101\"]\n",
    "data4 = [\"00111001\",\"01101101\",\"01100001\",\"01101000\",\"01101101\",\"01101111\",\"01110101\",\"01100100\",\"01001110\"]\n",
    "reciever(data4)"
   ]
  },
  {
   "cell_type": "markdown",
   "metadata": {},
   "source": [
    "# Hamming code correction lab"
   ]
  },
  {
   "cell_type": "code",
   "execution_count": 21,
   "metadata": {},
   "outputs": [],
   "source": [
    "def word_bin_representation(word):\n",
    "    final_rep = \"\"\n",
    "    for char in word:\n",
    "        final_rep += bin_representation(char)\n",
    "    return final_rep"
   ]
  },
  {
   "cell_type": "code",
   "execution_count": 128,
   "metadata": {},
   "outputs": [],
   "source": [
    "MAX_LEN = 100 \n",
    "\n",
    "def get_redundant_bits(msg_length):\n",
    "    for r in range(0,MAX_LEN):\n",
    "        if msg_length + r + 1 <= 2**r: # or msg_length + r < 2**r\n",
    "            return r\n",
    "\n",
    "def calc_parity(hamming_frame,current_parity_position):\n",
    "    start_position = (2 ** current_parity_position) -1\n",
    "    step_size = (2** current_parity_position)\n",
    "    temp_list = []\n",
    "    \n",
    "    for i in range(start_position,len(hamming_frame),step_size*2):\n",
    "        print(\"i = \", i, \"last = \" , i+step_size)\n",
    "        temp_list.extend(hamming_frame[i:i+step_size])\n",
    "    \n",
    "    even_count = 0\n",
    "    for i in range(0,len(temp_list)):\n",
    "        if temp_list[i] == '1':\n",
    "            even_count +=1\n",
    "    print(\"Debug r= \",current_parity_position,temp_list)\n",
    "    print(\"start\", start_position, \"step\", step_size)\n",
    "    if even_count% 2 != 0 :\n",
    "        return \"1\"\n",
    "    else :\n",
    "        return \"0\"\n",
    "        \n",
    "        \n",
    "def get_hamming_frame(msg,r):\n",
    "    hamming_frame = [\"*\"] * (len(msg)+r)\n",
    "    # feeding msg into the frame\n",
    "    current_msg_index = 0\n",
    "    current_parity_position = 0\n",
    "    for i in range(0,len(hamming_frame)):\n",
    "        #print(\"Debug\",i,(2**current_parity_position) - 1,current_parity_position)\n",
    "        if i != (2**current_parity_position) - 1 and current_msg_index < len(msg):\n",
    "            #print(r, current_msg_index)\n",
    "            hamming_frame[i] = msg[current_msg_index]\n",
    "            #print(hamming_frame)\n",
    "            current_msg_index +=1\n",
    "        else :\n",
    "            current_parity_position +=1\n",
    "    # feeding the parities into the frame    \n",
    "    current_parity_position = 0\n",
    "    for i in range(0,len(hamming_frame)):\n",
    "        if i == (2 **current_parity_position) -1 :\n",
    "            hamming_frame[i] = calc_parity(hamming_frame,current_parity_position)\n",
    "            current_parity_position +=1\n",
    "        \n",
    "    return hamming_frame    \n",
    "        \n",
    "        \n",
    "def hamming_code(MSG_list,output_list):\n",
    "    for msg in MSG_list:\n",
    "        binary_msg = word_bin_representation(msg)\n",
    "        #print(binary_msg)\n",
    "        r = get_redundant_bits(len(binary_msg))\n",
    "        new_msg = get_hamming_frame(binary_msg,r)   \n",
    "        output_list.append(new_msg)"
   ]
  },
  {
   "cell_type": "code",
   "execution_count": 129,
   "metadata": {},
   "outputs": [
    {
     "name": "stdout",
     "output_type": "stream",
     "text": [
      "5\n"
     ]
    }
   ],
   "source": [
    "char = \"00110101\"\n",
    "print(chr(int(char,2)))"
   ]
  },
  {
   "cell_type": "code",
   "execution_count": 130,
   "metadata": {
    "scrolled": false
   },
   "outputs": [
    {
     "name": "stdout",
     "output_type": "stream",
     "text": [
      "i =  0 last =  1\n",
      "i =  2 last =  3\n",
      "i =  4 last =  5\n",
      "i =  6 last =  7\n",
      "i =  8 last =  9\n",
      "i =  10 last =  11\n",
      "i =  12 last =  13\n",
      "i =  14 last =  15\n",
      "i =  16 last =  17\n",
      "i =  18 last =  19\n",
      "i =  20 last =  21\n",
      "Debug r=  0 ['*', '1', '1', '1', '0', '1', '0', '1', '1', '1', '1']\n",
      "start 0 step 1\n",
      "i =  1 last =  3\n",
      "i =  5 last =  7\n",
      "i =  9 last =  11\n",
      "i =  13 last =  15\n",
      "i =  17 last =  19\n",
      "Debug r=  1 ['*', '1', '0', '1', '0', '1', '0', '1', '0', '1']\n",
      "start 1 step 2\n",
      "i =  3 last =  7\n",
      "i =  11 last =  15\n",
      "i =  19 last =  23\n",
      "Debug r=  2 ['*', '1', '0', '1', '1', '0', '0', '1', '0', '1']\n",
      "start 3 step 4\n",
      "i =  7 last =  15\n",
      "Debug r=  3 ['*', '0', '0', '1', '1', '0', '0', '1']\n",
      "start 7 step 8\n",
      "i =  15 last =  31\n",
      "Debug r=  4 ['*', '1', '0', '1', '0', '1']\n",
      "start 15 step 16\n",
      "['0', '1', '1', '1', '1', '0', '1', '1', '0', '0', '1', '1', '0', '0', '1', '1', '1', '0', '1', '0', '1']\n"
     ]
    }
   ],
   "source": [
    "output_list = []\n",
    "MSG_list = [\"Ó5\"] # ,\"play\",\"eat\"\n",
    "hamming_code(MSG_list,output_list)\n",
    "print(output_list[0])"
   ]
  },
  {
   "cell_type": "code",
   "execution_count": 109,
   "metadata": {},
   "outputs": [
    {
     "name": "stdout",
     "output_type": "stream",
     "text": [
      "[1, 2]\n",
      "[3, 4]\n",
      "[5, 6]\n",
      "[7, 8]\n",
      "[9, 10]\n"
     ]
    }
   ],
   "source": [
    "t = [1,2,3,4,5,6,7,8,9,10]\n",
    "start_position = 0\n",
    "step_size = 2 \n",
    "for i in range(start_position,len(t),step_size): \n",
    "    print(t[i:i+step_size])"
   ]
  },
  {
   "cell_type": "code",
   "execution_count": 145,
   "metadata": {},
   "outputs": [
    {
     "name": "stdout",
     "output_type": "stream",
     "text": [
      "Debug r=  0 ['0', '0', '1', '1', '0', '1', '0', '1', '1', '1', '1']\n",
      "Debug r=  1 ['1', '0', '0', '1', '0', '1', '0', '1', '0', '1']\n",
      "Debug r=  2 ['1', '1', '0', '1', '1', '0', '0', '1', '0', '1']\n",
      "Debug r=  3 ['1', '0', '0', '1', '1', '0', '0', '1']\n",
      "Debug r=  4 ['1', '1', '0', '1', '0', '1']\n",
      "Msg before error is:  S5\n",
      "error at index  3\n",
      "Msg after fixing is:  Ó5\n"
     ]
    }
   ],
   "source": [
    "Hamming_frame = ['0','1','0','1','1','0','1','1','0','0','1','1','0','0','1','1','1','0','1','0','1']\n",
    "\n",
    "def check_hamming_error(Hamming_frame):\n",
    "    parities = []\n",
    "    for current_parity_position in range(0,len(Hamming_frame)):\n",
    "        start_position = (2 ** current_parity_position) -1\n",
    "        if start_position > len(Hamming_frame):\n",
    "            break\n",
    "        step_size = (2** current_parity_position)\n",
    "        temp_list = []\n",
    "\n",
    "        for i in range(start_position,len(Hamming_frame),step_size*2):\n",
    "            temp_list.extend(Hamming_frame[i:i+step_size])\n",
    "\n",
    "        even_count = 0\n",
    "        for i in range(0,len(temp_list)):\n",
    "            if temp_list[i] == '1':\n",
    "                even_count +=1\n",
    "        print(\"Debug r= \",current_parity_position,temp_list)\n",
    "        if even_count% 2 == 0 :\n",
    "            parities.append(\"0\")\n",
    "        else :\n",
    "            parities.append(\"1\")\n",
    "    return parities\n",
    "\n",
    "\n",
    "def binaryToDecimal(n): \n",
    "    num = n; \n",
    "    dec_value = 0; \n",
    "    base = 1; \n",
    "      \n",
    "    temp = num; \n",
    "    while(temp): \n",
    "        last_digit = temp % 10; \n",
    "        temp = int(temp / 10); \n",
    "          \n",
    "        dec_value += last_digit * base; \n",
    "        base = base * 2; \n",
    "    return dec_value; \n",
    "\n",
    "\n",
    "def get_error_index(parities):\n",
    "    error_index = \"\"\n",
    "    for val in parities:\n",
    "        error_index = val + error_index\n",
    "    return binaryToDecimal(int(error_index))\n",
    "\n",
    "def get_msg(Hamming_frame):\n",
    "    msg_binary = \"\"\n",
    "    msg_char = \"\"\n",
    "    current_parity_position = 0\n",
    "    for i in range(0,len(Hamming_frame)):\n",
    "        if i != (2**current_parity_position) - 1 :\n",
    "            msg_binary+= Hamming_frame[i]\n",
    "        else :\n",
    "            current_parity_position +=1\n",
    "    for i in range(0,len(msg_binary),8):\n",
    "         msg_char+= chr(int(msg_binary[i:i+8],2))\n",
    "    return msg_char\n",
    "\n",
    "def fix_frame(Hamming_frame,index):\n",
    "    Hamming_frame[index-1] = str(1 - int(Hamming_frame[index-1]))\n",
    "    return Hamming_frame\n",
    "\n",
    "error_val  = get_error_index(check_hamming_error(Hamming_frame))\n",
    "if error_val == 0:\n",
    "    print(\"No error\")\n",
    "    print(\"Msg is: \" , get_msg(Hamming_frame))\n",
    "else: \n",
    "    print(\"Msg before error is: \", get_msg(Hamming_frame))\n",
    "    print(\"error at index \", error_val)\n",
    "    correct = fix_frame(Hamming_frame,error_val)\n",
    "    print(\"Msg after fixing is: \", get_msg(correct))"
   ]
  },
  {
   "cell_type": "code",
   "execution_count": null,
   "metadata": {},
   "outputs": [],
   "source": []
  }
 ],
 "metadata": {
  "kernelspec": {
   "display_name": "Python 3",
   "language": "python",
   "name": "python3"
  },
  "language_info": {
   "codemirror_mode": {
    "name": "ipython",
    "version": 3
   },
   "file_extension": ".py",
   "mimetype": "text/x-python",
   "name": "python",
   "nbconvert_exporter": "python",
   "pygments_lexer": "ipython3",
   "version": "3.7.0"
  }
 },
 "nbformat": 4,
 "nbformat_minor": 2
}
